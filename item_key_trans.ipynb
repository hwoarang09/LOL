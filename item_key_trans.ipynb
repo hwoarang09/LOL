{
 "cells": [
  {
   "cell_type": "code",
   "execution_count": 1,
   "metadata": {},
   "outputs": [],
   "source": [
    "\n",
    "import requests\n",
    "\n",
    "\n",
    "itemlink='http://ddragon.leagueoflegends.com/cdn/10.15.1/data/en_US/item.json'\n",
    "r=requests.get(itemlink)\n",
    "item=r.json()\n",
    "ikl=list(item['data'].keys())\n",
    "\n",
    "def item_key_trans(input):\n",
    "    if type(input)==str:\n",
    "        return itemname_to_key(input)\n",
    "    elif type(input)==int:\n",
    "        return key_to_itemname(input)\n",
    "def itemname_to_key(itname):\n",
    "    for a in range(0,len(item['data'])):\n",
    "        itemname=(item['data'][ikl[a]]['name'])\n",
    "        if itemname==itname:\n",
    "            return (ikl[a])\n",
    "def key_to_itemname(key):\n",
    "    name=item['data'][str(key)]['name']\n",
    "    return (name)    "
   ]
  },
  {
   "cell_type": "code",
   "execution_count": null,
   "metadata": {},
   "outputs": [],
   "source": []
  }
 ],
 "metadata": {
  "kernelspec": {
   "display_name": "Python 3",
   "language": "python",
   "name": "python3"
  },
  "language_info": {
   "codemirror_mode": {
    "name": "ipython",
    "version": 3
   },
   "file_extension": ".py",
   "mimetype": "text/x-python",
   "name": "python",
   "nbconvert_exporter": "python",
   "pygments_lexer": "ipython3",
   "version": "3.7.6"
  }
 },
 "nbformat": 4,
 "nbformat_minor": 4
}
