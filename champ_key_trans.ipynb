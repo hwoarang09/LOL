{
 "cells": [
  {
   "cell_type": "code",
   "execution_count": 1,
   "metadata": {},
   "outputs": [],
   "source": [
    "import requests\n",
    "\n",
    "champion = \"http://ddragon.leagueoflegends.com/cdn/10.15.1/data/en_US/champion.json\"\n",
    "R_champion = requests.get(champion)\n",
    "x=R_champion.json()['data']\n",
    "dict_champion_key={}\n",
    "kr_dict_champion_key={}\n",
    "dict_key_champion={}\n",
    "for key, value in x.items():\n",
    "    #print(value['id'], value['key'])\n",
    "    dict_champion_key[value['id']]=int(value['key'])\n",
    "    dict_key_champion[int(value['key'])]=value['id']\n",
    "\n",
    "def champ_key_trans(a):\n",
    "    if type(a)==int:\n",
    "        return dict_key_champion[a]\n",
    "    else:\n",
    "        return dict_champion_key[a]\n",
    "        "
   ]
  },
  {
   "cell_type": "code",
   "execution_count": 2,
   "metadata": {},
   "outputs": [
    {
     "data": {
      "text/plain": [
       "{'version': '10.15.1',\n",
       " 'id': 'Zyra',\n",
       " 'key': '143',\n",
       " 'name': 'Zyra',\n",
       " 'title': 'Rise of the Thorns',\n",
       " 'blurb': 'Born in an ancient, sorcerous catastrophe, Zyra is the wrath of nature given form—an alluring hybrid of plant and human, kindling new life with every step. She views the many mortals of Valoran as little more than prey for her seeded progeny, and thinks...',\n",
       " 'info': {'attack': 4, 'defense': 3, 'magic': 8, 'difficulty': 7},\n",
       " 'image': {'full': 'Zyra.png',\n",
       "  'sprite': 'champion4.png',\n",
       "  'group': 'champion',\n",
       "  'x': 384,\n",
       "  'y': 96,\n",
       "  'w': 48,\n",
       "  'h': 48},\n",
       " 'tags': ['Mage', 'Support'],\n",
       " 'partype': 'Mana',\n",
       " 'stats': {'hp': 504,\n",
       "  'hpperlevel': 79,\n",
       "  'mp': 418,\n",
       "  'mpperlevel': 25,\n",
       "  'movespeed': 340,\n",
       "  'armor': 29,\n",
       "  'armorperlevel': 3,\n",
       "  'spellblock': 30,\n",
       "  'spellblockperlevel': 0.5,\n",
       "  'attackrange': 575,\n",
       "  'hpregen': 5.5,\n",
       "  'hpregenperlevel': 0.5,\n",
       "  'mpregen': 13,\n",
       "  'mpregenperlevel': 0.4,\n",
       "  'crit': 0,\n",
       "  'critperlevel': 0,\n",
       "  'attackdamage': 53.376,\n",
       "  'attackdamageperlevel': 3.2,\n",
       "  'attackspeedperlevel': 2.11,\n",
       "  'attackspeed': 0.625}}"
      ]
     },
     "execution_count": 2,
     "metadata": {},
     "output_type": "execute_result"
    }
   ],
   "source": []
  },
  {
   "cell_type": "code",
   "execution_count": null,
   "metadata": {},
   "outputs": [],
   "source": []
  }
 ],
 "metadata": {
  "kernelspec": {
   "display_name": "Python 3",
   "language": "python",
   "name": "python3"
  },
  "language_info": {
   "codemirror_mode": {
    "name": "ipython",
    "version": 3
   },
   "file_extension": ".py",
   "mimetype": "text/x-python",
   "name": "python",
   "nbconvert_exporter": "python",
   "pygments_lexer": "ipython3",
   "version": "3.7.6"
  }
 },
 "nbformat": 4,
 "nbformat_minor": 4
}
