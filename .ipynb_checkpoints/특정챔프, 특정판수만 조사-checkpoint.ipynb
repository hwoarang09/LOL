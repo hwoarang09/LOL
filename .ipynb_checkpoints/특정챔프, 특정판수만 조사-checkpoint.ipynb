{
 "cells": [
  {
   "cell_type": "markdown",
   "metadata": {},
   "source": [
    "# 특정챔프, 특정판수만 조사\n"
   ]
  },
  {
   "cell_type": "code",
   "execution_count": 113,
   "metadata": {},
   "outputs": [],
   "source": [
    "#특정챔프, 특정판수만 조사\n",
    "\n",
    "\n",
    "\n",
    "#이번시즌 전경기 전수조사\n",
    "\n",
    "import requests\n",
    "from pandas.io.json import json_normalize\n",
    "import requests\n",
    "import pandas as pd\n",
    "import numpy as np\n",
    "import time\n",
    "from pandas.io.json import json_normalize\n",
    "import requests\n",
    "import pandas as pd\n",
    "import numpy as np\n",
    "import time\n",
    "import pandas as pd\n",
    "import pickle\n",
    "\n",
    "#Self Created Modules\n",
    "#############################################################################\n",
    "from champ_key_trans import champ_key_trans as ckt\n",
    "\n",
    "#############################################################################\n",
    "\n",
    "summonerName='Slark'\n",
    "accountId = 0\n",
    "summonerId = 0\n",
    "matchlist = []\n",
    "matchIdData = 0\n",
    "matchtimeline = 0\n",
    "b=69\n",
    "api_key='RGAPI-6b631dce-743f-43de-b428-2ead0d322e41'\n",
    "\n",
    "\n",
    "\n",
    "\n",
    "\n",
    "def get_accountId(summonerName, api_key):\n",
    "    summonerId='https://kr.api.riotgames.com/lol/summoner/v4/summoners/by-name/'+summonerName+ '?api_key=' + api_key\n",
    "    R_summonerId = requests.get(summonerId)\n",
    "    accountId=R_summonerId.json()['accountId']\n",
    "    \n",
    "    return accountId\n",
    "\n",
    "def get_summonerId(summonerName, api_key):\n",
    "    summonerId='https://kr.api.riotgames.com/lol/summoner/v4/summoners/by-name/'+summonerName+ '?api_key=' + api_key\n",
    "    R_summonerId = requests.get(summonerId)\n",
    "    summonerId=R_summonerId.json()['id']\n",
    "   \n",
    "    return summonerId\n",
    "\n",
    "def get_TotalGamesCount(summonerId, api_key):\n",
    "    TGC_link='https://kr.api.riotgames.com/lol/league/v4/entries/by-summoner/' + summonerId+ '?api_key='+api_key\n",
    "    R_TGC_link=requests.get(TGC_link)\n",
    "\n",
    "    TotalGamesCount=R_TGC_link.json()[0]['wins']+R_TGC_link.json()[0]['losses']\n",
    "\n",
    "    return TotalGamesCount\n",
    "\n",
    "def get_matchlist(accountId, championName, Gamecount, api_key):\n",
    "    matchlist=[]\n",
    "    championkey=ckt(championName)\n",
    "    \n",
    "    \n",
    "    if Gamecount < 100:\n",
    "        endIndex=Gamecount\n",
    "        beginIndex=0\n",
    "\n",
    "\n",
    "        matchlistlink=('https://kr.api.riotgames.com/lol/match/v4/matchlists/by-account/'+accountId+'?champion='+str(championkey)+'&queue=420&endIndex='+str(endIndex)+'&beginIndex='+str(beginIndex)+'&api_key='+api_key)\n",
    "        #matchlistlink='https://kr.api.riotgames.com/lol/match/v4/matchlists/by-account/' + accountId+ '?queue=420&endIndex='+ str(endIndex)+'&beginIndex='+str(beginIndex)+'&api_key='+api_key\n",
    "        R_matchList=requests.get(matchlistlink)\n",
    "        for a in (R_matchList.json()['matches']):\n",
    "            matchlist.append(a['gameId'])\n",
    "    else:\n",
    "    \n",
    "        for hundred in range(int(Gamecount/100)):\n",
    "            endIndex=(hundred+1)*100\n",
    "            beginIndex=hundred*100\n",
    "\n",
    "\n",
    "            matchlistlink=('https://kr.api.riotgames.com/lol/match/v4/matchlists/by-account/'+accountId+'?champion='+str(championkey)+'&queue=420&endIndex='+str(endIndex)+'&beginIndex='+str(beginIndex)+'&api_key='+api_key)\n",
    "            #matchlistlink='https://kr.api.riotgames.com/lol/match/v4/matchlists/by-account/' + accountId+ '?queue=420&endIndex='+ str(endIndex)+'&beginIndex='+str(beginIndex)+'&api_key='+api_key\n",
    "            R_matchList=requests.get(matchlistlink)\n",
    "            for a in (R_matchList.json()['matches']):\n",
    "                matchlist.append(a['gameId'])\n",
    "\n",
    "                        \n",
    "        endIndex=Gamecount\n",
    "        beginIndex=(hundred+1)*100\n",
    "\n",
    "\n",
    "        matchlistlink=('https://kr.api.riotgames.com/lol/match/v4/matchlists/by-account/'+accountId+'?champion='+str(championkey)+'&queue=420&endIndex='+str(endIndex)+'&beginIndex='+str(beginIndex)+'&api_key='+api_key)\n",
    "        #matchlistlink='https://kr.api.riotgames.com/lol/match/v4/matchlists/by-account/' + accountId+ '?queue=420&endIndex='+ str(endIndex)+'&beginIndex='+str(beginIndex)+'&api_key='+api_key\n",
    "        R_matchList=requests.get(matchlistlink)\n",
    "        for a in (R_matchList.json()['matches']):\n",
    "            matchlist.append(a['gameId'])\n",
    "\n",
    "    \n",
    "    return matchlist\n",
    "\n",
    "\n",
    "def get_matchIdData(matchId, api_key):\n",
    "    matchIddatalink=('https://kr.api.riotgames.com/lol/match/v4/matches/' + str(matchId) +'?api_key='+api_key)\n",
    "    R_matchIddata=requests.get(matchIddatalink)\n",
    "    return R_matchIddata.json()\n",
    "\n",
    "def get_matchtimeline(matchId, api_key):\n",
    "    matchtimelinelink=('https://kr.api.riotgames.com/lol/match/v4/timelines/by-match/'+str(matchId)+'?api_key='+api_key)\n",
    "    R_matchtimeline=requests.get(matchtimelinelink)\n",
    "\n",
    "    return R_matchtimeline.json()\n",
    "\n",
    "\n",
    "\n",
    "def get_gameid_iddata_timeline_SUM(matchlist, api_key):\n",
    "    gameid_iddata_timeline_SUM = []\n",
    "\n",
    "    for i in range(0,len(matchlist)):\n",
    "        imsi=[]\n",
    "\n",
    "        matchId=matchlist[i]\n",
    "        matchIdData=get_matchIdData(matchId,api_key)\n",
    "        matchtimeline=get_matchtimeline(matchId,api_key)\n",
    "        imsi.append(matchId)\n",
    "        imsi.append(matchIdData)\n",
    "        imsi.append(matchtimeline)\n",
    "\n",
    "        gameid_iddata_timeline_SUM.append(imsi)\n",
    "        imsi=[]\n",
    "    return gameid_iddata_timeline_SUM\n",
    "\n",
    "\n",
    "accountId=get_accountId(summonerName, api_key)\n",
    "summonerId=get_summonerId(summonerName, api_key)\n",
    "TotalGamesCount=get_TotalGamesCount(summonerId, api_key)\n"
   ]
  },
  {
   "cell_type": "code",
   "execution_count": 114,
   "metadata": {},
   "outputs": [
    {
     "name": "stdout",
     "output_type": "stream",
     "text": [
      "150\n",
      "time : 0.6691975593566895\n"
     ]
    }
   ],
   "source": [
    "start = time.time()  # 시작 시간 저장\n",
    " \n",
    " \n",
    "\n",
    "matchlist=get_matchlist(accountId, 'Cassiopeia', 150, api_key)\n",
    "print(len(matchlist))\n",
    "print(\"time :\", time.time() - start)  # 현재시각 - 시작시간 = 실행 시간\n"
   ]
  },
  {
   "cell_type": "code",
   "execution_count": 115,
   "metadata": {},
   "outputs": [
    {
     "name": "stdout",
     "output_type": "stream",
     "text": [
      "150\n",
      "time : 67.09937024116516\n"
     ]
    }
   ],
   "source": [
    "\n",
    "start = time.time()  # 시작 시간 저장\n",
    " \n",
    "id_data_line_SUM=get_gameid_iddata_timeline_SUM(matchlist, api_key)\n",
    "print(len(id_data_line_SUM))\n",
    "\n",
    "\n",
    "print(\"time :\", time.time() - start)  # 현재시각 - 시작시간 = 실행 시간\n"
   ]
  },
  {
   "cell_type": "code",
   "execution_count": null,
   "metadata": {},
   "outputs": [],
   "source": []
  },
  {
   "cell_type": "code",
   "execution_count": null,
   "metadata": {},
   "outputs": [],
   "source": []
  },
  {
   "cell_type": "code",
   "execution_count": null,
   "metadata": {},
   "outputs": [],
   "source": []
  },
  {
   "cell_type": "code",
   "execution_count": null,
   "metadata": {},
   "outputs": [],
   "source": []
  },
  {
   "cell_type": "code",
   "execution_count": null,
   "metadata": {},
   "outputs": [],
   "source": []
  },
  {
   "cell_type": "code",
   "execution_count": null,
   "metadata": {},
   "outputs": [],
   "source": []
  },
  {
   "cell_type": "code",
   "execution_count": null,
   "metadata": {},
   "outputs": [],
   "source": []
  },
  {
   "cell_type": "code",
   "execution_count": null,
   "metadata": {},
   "outputs": [],
   "source": []
  },
  {
   "cell_type": "code",
   "execution_count": null,
   "metadata": {},
   "outputs": [],
   "source": []
  },
  {
   "cell_type": "code",
   "execution_count": null,
   "metadata": {},
   "outputs": [],
   "source": []
  },
  {
   "cell_type": "code",
   "execution_count": null,
   "metadata": {},
   "outputs": [],
   "source": []
  },
  {
   "cell_type": "code",
   "execution_count": null,
   "metadata": {},
   "outputs": [],
   "source": []
  },
  {
   "cell_type": "code",
   "execution_count": null,
   "metadata": {},
   "outputs": [],
   "source": []
  },
  {
   "cell_type": "code",
   "execution_count": null,
   "metadata": {},
   "outputs": [],
   "source": []
  }
 ],
 "metadata": {
  "kernelspec": {
   "display_name": "Python 3",
   "language": "python",
   "name": "python3"
  },
  "language_info": {
   "codemirror_mode": {
    "name": "ipython",
    "version": 3
   },
   "file_extension": ".py",
   "mimetype": "text/x-python",
   "name": "python",
   "nbconvert_exporter": "python",
   "pygments_lexer": "ipython3",
   "version": "3.7.6"
  }
 },
 "nbformat": 4,
 "nbformat_minor": 4
}
