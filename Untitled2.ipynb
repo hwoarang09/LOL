{
 "cells": [
  {
   "cell_type": "code",
   "execution_count": 4,
   "metadata": {},
   "outputs": [
    {
     "ename": "NameError",
     "evalue": "name 'challenger' is not defined",
     "output_type": "error",
     "traceback": [
      "\u001b[1;31m---------------------------------------------------------------------------\u001b[0m",
      "\u001b[1;31mNameError\u001b[0m                                 Traceback (most recent call last)",
      "\u001b[1;32m<ipython-input-4-a51abbecff04>\u001b[0m in \u001b[0;36m<module>\u001b[1;34m\u001b[0m\n\u001b[0;32m      4\u001b[0m \u001b[0mapi_key\u001b[0m \u001b[1;33m=\u001b[0m \u001b[1;34m'RGAPI-8b0b321a-92d1-4d66-a1a6-57d7ceee0a84'\u001b[0m\u001b[1;33m\u001b[0m\u001b[1;33m\u001b[0m\u001b[0m\n\u001b[0;32m      5\u001b[0m \u001b[0mfhgr\u001b[0m \u001b[1;33m=\u001b[0m \u001b[1;34m'https://kr.api.riotgames.com/lol/league/v4/challengerleagues/by-queue/RANKED_SOLO_5x5?api_key='\u001b[0m \u001b[1;33m+\u001b[0m \u001b[0mapi_key\u001b[0m\u001b[1;33m\u001b[0m\u001b[1;33m\u001b[0m\u001b[0m\n\u001b[1;32m----> 6\u001b[1;33m \u001b[0mr\u001b[0m \u001b[1;33m=\u001b[0m \u001b[0mrequests\u001b[0m\u001b[1;33m.\u001b[0m\u001b[0mget\u001b[0m\u001b[1;33m(\u001b[0m\u001b[0mchallenger\u001b[0m\u001b[1;33m)\u001b[0m\u001b[1;31m#그마데이터 호출\u001b[0m\u001b[1;33m\u001b[0m\u001b[1;33m\u001b[0m\u001b[0m\n\u001b[0m\u001b[0;32m      7\u001b[0m \u001b[0mleague_df\u001b[0m \u001b[1;33m=\u001b[0m \u001b[0mpd\u001b[0m\u001b[1;33m.\u001b[0m\u001b[0mDataFrame\u001b[0m\u001b[1;33m(\u001b[0m\u001b[0mr\u001b[0m\u001b[1;33m.\u001b[0m\u001b[0mjson\u001b[0m\u001b[1;33m(\u001b[0m\u001b[1;33m)\u001b[0m\u001b[1;33m)\u001b[0m\u001b[1;33m\u001b[0m\u001b[1;33m\u001b[0m\u001b[0m\n\u001b[0;32m      8\u001b[0m \u001b[1;33m\u001b[0m\u001b[0m\n",
      "\u001b[1;31mNameError\u001b[0m: name 'challenger' is not defined"
     ]
    }
   ],
   "source": [
    "import requests\n",
    "import pandas as pd \n",
    "import time\n",
    "api_key = 'RGAPI-8b0b321a-92d1-4d66-a1a6-57d7ceee0a84'\n",
    "fhgr = 'https://kr.api.riotgames.com/lol/league/v4/challengerleagues/by-queue/RANKED_SOLO_5x5?api_key=' + api_key\n",
    "r = requests.get(challenger)#그마데이터 호출\n",
    "league_df = pd.DataFrame(r.json())\n",
    "\n",
    "league_df.reset_index(inplace=True)#수집한 그마데이터 index정리\n",
    "league_entries_df = pd.DataFrame(dict(league_df['entries'])).T #dict구조로 되어 있는 entries컬럼 풀어주기\n",
    "league_df = pd.concat([league_df, league_entries_df], axis=1) #열끼리 결합\n",
    "\n",
    "league_df = league_df.drop(['index', 'queue', 'name', 'leagueId', 'entries', 'rank'], axis=1)\n",
    "\n",
    "accountid_list=[]"
   ]
  },
  {
   "cell_type": "code",
   "execution_count": 2,
   "metadata": {},
   "outputs": [],
   "source": [
    "for i in range(len(league_df)):\n",
    "    try:\n",
    "        sohwan = 'https://kr.api.riotgames.com/lol/summoner/v4/summoners/by-name/' + league_df['summonerName'].iloc[i] + '?api_key=' + api_key \n",
    "        r = requests.get(sohwan)\n",
    "        \n",
    "        while r.status_code == 429:\n",
    "            time.sleep(5)\n",
    "            sohwan = 'https://kr.api.riotgames.com/lol/summoner/v4/summoners/by-name/' + league_df['summonerName'].iloc[i] + '?api_key=' + api_key \n",
    "            r = requests.get(sohwan)\n",
    "            \n",
    "        account_id = r.json()['accountId']\n",
    "        league_df.iloc[i, -1] = account_id\n",
    "        accountid_list.append(account_id)\n",
    "    \n",
    "    except:\n",
    "        pass"
   ]
  },
  {
   "cell_type": "code",
   "execution_count": 28,
   "metadata": {},
   "outputs": [
    {
     "data": {
      "text/html": [
       "<div>\n",
       "<style scoped>\n",
       "    .dataframe tbody tr th:only-of-type {\n",
       "        vertical-align: middle;\n",
       "    }\n",
       "\n",
       "    .dataframe tbody tr th {\n",
       "        vertical-align: top;\n",
       "    }\n",
       "\n",
       "    .dataframe thead th {\n",
       "        text-align: right;\n",
       "    }\n",
       "</style>\n",
       "<table border=\"1\" class=\"dataframe\">\n",
       "  <thead>\n",
       "    <tr style=\"text-align: right;\">\n",
       "      <th></th>\n",
       "      <th>tier</th>\n",
       "      <th>summonerId</th>\n",
       "      <th>summonerName</th>\n",
       "      <th>leaguePoints</th>\n",
       "      <th>wins</th>\n",
       "      <th>losses</th>\n",
       "      <th>veteran</th>\n",
       "      <th>inactive</th>\n",
       "      <th>freshBlood</th>\n",
       "      <th>hotStreak</th>\n",
       "    </tr>\n",
       "  </thead>\n",
       "  <tbody>\n",
       "    <tr>\n",
       "      <th>36</th>\n",
       "      <td>CHALLENGER</td>\n",
       "      <td>NTTDAj_pQIq-qZrGPUcSOFHr0wcb94F0DL7Ak5ji-BLkKvs</td>\n",
       "      <td>lose jug</td>\n",
       "      <td>612</td>\n",
       "      <td>646</td>\n",
       "      <td>558</td>\n",
       "      <td>False</td>\n",
       "      <td>False</td>\n",
       "      <td>True</td>\n",
       "      <td>9bLYy2Kq9fVftqdRZA9OF-C_an6_DJ5dreuusegk4P4Q4u...</td>\n",
       "    </tr>\n",
       "    <tr>\n",
       "      <th>123</th>\n",
       "      <td>CHALLENGER</td>\n",
       "      <td>ZEOJVRuf-lJ7oHDs0l4ML66QeuagoMeftzykSPSMtab3rUk</td>\n",
       "      <td>우울우울</td>\n",
       "      <td>629</td>\n",
       "      <td>303</td>\n",
       "      <td>266</td>\n",
       "      <td>False</td>\n",
       "      <td>False</td>\n",
       "      <td>False</td>\n",
       "      <td>False</td>\n",
       "    </tr>\n",
       "    <tr>\n",
       "      <th>113</th>\n",
       "      <td>CHALLENGER</td>\n",
       "      <td>4xRk1tsA_RPJMH2i-_g_zqEqmTLTts9Zrcdjc9Ubpgi8IKQ</td>\n",
       "      <td>I cannt stop</td>\n",
       "      <td>645</td>\n",
       "      <td>863</td>\n",
       "      <td>824</td>\n",
       "      <td>False</td>\n",
       "      <td>False</td>\n",
       "      <td>True</td>\n",
       "      <td>NXbo9G_aPEdAhchVOvOTZWDNfDqju_YrdKvFtHXXsec9ihU</td>\n",
       "    </tr>\n",
       "    <tr>\n",
       "      <th>192</th>\n",
       "      <td>CHALLENGER</td>\n",
       "      <td>gD8LoUtv3oxzTMPPTzpTc5fTVg4gXjPc01-cDQVpMUZwHHA</td>\n",
       "      <td>OZ ian</td>\n",
       "      <td>645</td>\n",
       "      <td>328</td>\n",
       "      <td>275</td>\n",
       "      <td>False</td>\n",
       "      <td>False</td>\n",
       "      <td>True</td>\n",
       "      <td>gfjP4bN20d0QH26UEJauw0Y2giH8MOOY4F8KzWh5ttgLIC...</td>\n",
       "    </tr>\n",
       "    <tr>\n",
       "      <th>247</th>\n",
       "      <td>CHALLENGER</td>\n",
       "      <td>x-5JvSbTnWaRHAOkv1Psx8VIEyzTiAcjjOmUZfsPPlnyjGg</td>\n",
       "      <td>Single beltk</td>\n",
       "      <td>646</td>\n",
       "      <td>220</td>\n",
       "      <td>117</td>\n",
       "      <td>False</td>\n",
       "      <td>False</td>\n",
       "      <td>True</td>\n",
       "      <td>1udiQrbmHcPjdp1w7n2j1J0DBPQYvZ8JS3jVn3K0czjHuA...</td>\n",
       "    </tr>\n",
       "    <tr>\n",
       "      <th>...</th>\n",
       "      <td>...</td>\n",
       "      <td>...</td>\n",
       "      <td>...</td>\n",
       "      <td>...</td>\n",
       "      <td>...</td>\n",
       "      <td>...</td>\n",
       "      <td>...</td>\n",
       "      <td>...</td>\n",
       "      <td>...</td>\n",
       "      <td>...</td>\n",
       "    </tr>\n",
       "    <tr>\n",
       "      <th>80</th>\n",
       "      <td>CHALLENGER</td>\n",
       "      <td>6bnO1G2VKhVtb5123Q3MKX9AFCGClq6kmS0tyXWta_WetQ</td>\n",
       "      <td>소나잔나</td>\n",
       "      <td>1365</td>\n",
       "      <td>192</td>\n",
       "      <td>120</td>\n",
       "      <td>True</td>\n",
       "      <td>False</td>\n",
       "      <td>False</td>\n",
       "      <td>_oPyLpdijH-xMUIVGdhiJvVcTTmwn7ehjiFWrhI78BkV</td>\n",
       "    </tr>\n",
       "    <tr>\n",
       "      <th>129</th>\n",
       "      <td>CHALLENGER</td>\n",
       "      <td>JDcDSqnkROUUAmhR-KiCSuXvY11WjVFyg5znlqrrCsS8IKi4</td>\n",
       "      <td>개똥벌레a</td>\n",
       "      <td>1366</td>\n",
       "      <td>164</td>\n",
       "      <td>87</td>\n",
       "      <td>False</td>\n",
       "      <td>False</td>\n",
       "      <td>False</td>\n",
       "      <td>HEU9lHtTtUcZpeDEo0hyyZ7KAo5AfwBkPG8rkiQQSVPEGL...</td>\n",
       "    </tr>\n",
       "    <tr>\n",
       "      <th>4</th>\n",
       "      <td>CHALLENGER</td>\n",
       "      <td>UGi6UnJvRgoNKqrLlocFARvkxC4n2r6Xr5CytI4y0MK0jYI</td>\n",
       "      <td>발이 저리다</td>\n",
       "      <td>1404</td>\n",
       "      <td>143</td>\n",
       "      <td>75</td>\n",
       "      <td>True</td>\n",
       "      <td>False</td>\n",
       "      <td>False</td>\n",
       "      <td>MooYRLCJ3YzIcW9Bmo0LyYe8v_b4IPERx1arIs7bLSokEx...</td>\n",
       "    </tr>\n",
       "    <tr>\n",
       "      <th>121</th>\n",
       "      <td>CHALLENGER</td>\n",
       "      <td>f4NNTTcTvNIu2-u4QafXu7CN6mZsRrTRB9X1-iujtlHDnJI</td>\n",
       "      <td>DWG ShowMaker</td>\n",
       "      <td>1488</td>\n",
       "      <td>301</td>\n",
       "      <td>220</td>\n",
       "      <td>True</td>\n",
       "      <td>False</td>\n",
       "      <td>False</td>\n",
       "      <td>hb0ZxlN2cHseNowa9hrtW7bumCUYvJs7PxvVyK3ZiFQSQi0</td>\n",
       "    </tr>\n",
       "    <tr>\n",
       "      <th>5</th>\n",
       "      <td>CHALLENGER</td>\n",
       "      <td>4zJqVbq0hxQ7GJsjV_Osj-Cpnx12SrHORCa9lzJh9LqLDH0</td>\n",
       "      <td>T1 BurdoI</td>\n",
       "      <td>1584</td>\n",
       "      <td>280</td>\n",
       "      <td>231</td>\n",
       "      <td>True</td>\n",
       "      <td>False</td>\n",
       "      <td>False</td>\n",
       "      <td>6W19Nk4Tx4APaLpZyGgWY8sZq7AnIyP6m2cM1aBs-RJRiCE</td>\n",
       "    </tr>\n",
       "  </tbody>\n",
       "</table>\n",
       "<p>300 rows × 10 columns</p>\n",
       "</div>"
      ],
      "text/plain": [
       "           tier                                        summonerId  \\\n",
       "36   CHALLENGER   NTTDAj_pQIq-qZrGPUcSOFHr0wcb94F0DL7Ak5ji-BLkKvs   \n",
       "123  CHALLENGER   ZEOJVRuf-lJ7oHDs0l4ML66QeuagoMeftzykSPSMtab3rUk   \n",
       "113  CHALLENGER   4xRk1tsA_RPJMH2i-_g_zqEqmTLTts9Zrcdjc9Ubpgi8IKQ   \n",
       "192  CHALLENGER   gD8LoUtv3oxzTMPPTzpTc5fTVg4gXjPc01-cDQVpMUZwHHA   \n",
       "247  CHALLENGER   x-5JvSbTnWaRHAOkv1Psx8VIEyzTiAcjjOmUZfsPPlnyjGg   \n",
       "..          ...                                               ...   \n",
       "80   CHALLENGER    6bnO1G2VKhVtb5123Q3MKX9AFCGClq6kmS0tyXWta_WetQ   \n",
       "129  CHALLENGER  JDcDSqnkROUUAmhR-KiCSuXvY11WjVFyg5znlqrrCsS8IKi4   \n",
       "4    CHALLENGER   UGi6UnJvRgoNKqrLlocFARvkxC4n2r6Xr5CytI4y0MK0jYI   \n",
       "121  CHALLENGER   f4NNTTcTvNIu2-u4QafXu7CN6mZsRrTRB9X1-iujtlHDnJI   \n",
       "5    CHALLENGER   4zJqVbq0hxQ7GJsjV_Osj-Cpnx12SrHORCa9lzJh9LqLDH0   \n",
       "\n",
       "      summonerName leaguePoints wins losses veteran inactive freshBlood  \\\n",
       "36        lose jug          612  646    558   False    False       True   \n",
       "123           우울우울          629  303    266   False    False      False   \n",
       "113   I cannt stop          645  863    824   False    False       True   \n",
       "192         OZ ian          645  328    275   False    False       True   \n",
       "247   Single beltk          646  220    117   False    False       True   \n",
       "..             ...          ...  ...    ...     ...      ...        ...   \n",
       "80            소나잔나         1365  192    120    True    False      False   \n",
       "129          개똥벌레a         1366  164     87   False    False      False   \n",
       "4           발이 저리다         1404  143     75    True    False      False   \n",
       "121  DWG ShowMaker         1488  301    220    True    False      False   \n",
       "5        T1 BurdoI         1584  280    231    True    False      False   \n",
       "\n",
       "                                             hotStreak  \n",
       "36   9bLYy2Kq9fVftqdRZA9OF-C_an6_DJ5dreuusegk4P4Q4u...  \n",
       "123                                              False  \n",
       "113    NXbo9G_aPEdAhchVOvOTZWDNfDqju_YrdKvFtHXXsec9ihU  \n",
       "192  gfjP4bN20d0QH26UEJauw0Y2giH8MOOY4F8KzWh5ttgLIC...  \n",
       "247  1udiQrbmHcPjdp1w7n2j1J0DBPQYvZ8JS3jVn3K0czjHuA...  \n",
       "..                                                 ...  \n",
       "80        _oPyLpdijH-xMUIVGdhiJvVcTTmwn7ehjiFWrhI78BkV  \n",
       "129  HEU9lHtTtUcZpeDEo0hyyZ7KAo5AfwBkPG8rkiQQSVPEGL...  \n",
       "4    MooYRLCJ3YzIcW9Bmo0LyYe8v_b4IPERx1arIs7bLSokEx...  \n",
       "121    hb0ZxlN2cHseNowa9hrtW7bumCUYvJs7PxvVyK3ZiFQSQi0  \n",
       "5      6W19Nk4Tx4APaLpZyGgWY8sZq7AnIyP6m2cM1aBs-RJRiCE  \n",
       "\n",
       "[300 rows x 10 columns]"
      ]
     },
     "execution_count": 28,
     "metadata": {},
     "output_type": "execute_result"
    }
   ],
   "source": [
    "league_df.sort_values(by=['leaguePoints'])"
   ]
  },
  {
   "cell_type": "code",
   "execution_count": null,
   "metadata": {},
   "outputs": [],
   "source": [
    "accountid_list"
   ]
  },
  {
   "cell_type": "code",
   "execution_count": 30,
   "metadata": {},
   "outputs": [
    {
     "name": "stdout",
     "output_type": "stream",
     "text": [
      "107   error message :  504   error type  :  'matches'\n",
      "142   error message :  503   error type  :  'matches'\n",
      "217   error message :  504   error type  :  'matches'\n"
     ]
    }
   ],
   "source": [
    "match_info_df = pd.DataFrame()\n",
    "season = str(13)\n",
    "for i in range(len(accountid_list)):\n",
    "    try:\n",
    "        match0 = 'https://kr.api.riotgames.com/lol/match/v4/matchlists/by-account/' + accountid_list[i]  +'?season=' + season + '&api_key=' + api_key\n",
    "        r = requests.get(match0)\n",
    "        \n",
    "        while r.status_code == 429:\n",
    "            time.sleep(5)\n",
    "            match0 = 'https://kr.api.riotgames.com/lol/match/v4/matchlists/by-account/' + accountid_list[i]  +'?season=' + season + '&api_key=' + api_key\n",
    "            r = requests.get(match0)\n",
    "            \n",
    "        match_info_df = pd.concat([match_info_df, pd.DataFrame(r.json()['matches'])])\n",
    "    \n",
    "    except Exception as e:\n",
    "        print(i, \"  error message : \", r.status_code, '  error type  : ', e)"
   ]
  },
  {
   "cell_type": "code",
   "execution_count": 32,
   "metadata": {},
   "outputs": [],
   "source": [
    "match_info_df.to_csv(r'challengergameid.csv')"
   ]
  },
  {
   "cell_type": "code",
   "execution_count": 4,
   "metadata": {},
   "outputs": [],
   "source": [
    "season14_challenger_gameid=match_info_df"
   ]
  },
  {
   "cell_type": "code",
   "execution_count": null,
   "metadata": {},
   "outputs": [],
   "source": [
    "sohwan = 'https://kr.api.riotgames.com/lol/summoner/v4/summoners/by-name/' + league_df['summonerName'].iloc[i] + '?api_key=' + api_key \n",
    "r = requests.get(sohwan)"
   ]
  },
  {
   "cell_type": "code",
   "execution_count": 40,
   "metadata": {},
   "outputs": [
    {
     "data": {
      "text/plain": [
       "99"
      ]
     },
     "execution_count": 40,
     "metadata": {},
     "output_type": "execute_result"
    }
   ],
   "source": [
    "\n",
    "match0 = 'https://kr.api.riotgames.com/lol/match/v4/matchlists/by-account/nYd4o_i5dgmi27AEcPWjb3dtPh1GTFaIeRSkCEH0xvruj3d3ELk9GwQZ?endIndex=200&beginIndex=101&api_key=RGAPI-15b6c117-8664-4a71-b3db-f7412f1aa4e1'  +'?season=' + str(13) + '&api_key=' + api_key\n",
    "r = requests.get(match0)\n",
    "len(r.json()['matches'])"
   ]
  },
  {
   "cell_type": "code",
   "execution_count": 37,
   "metadata": {},
   "outputs": [],
   "source": [
    "test1=r.json()['matches']"
   ]
  },
  {
   "cell_type": "code",
   "execution_count": null,
   "metadata": {},
   "outputs": [],
   "source": [
    "master = 'https://kr.api.riotgames.com/lol/league/v4/masterleagues/by-queue/RANKED_SOLO_5x5?api_key=' + api_key\n",
    "r = requests.get(grandmaster)#그마데이터 호출\n",
    "league_df = pd.DataFrame(r.json())\n",
    "\n",
    "league_df.reset_index(inplace=True)#수집한 그마데이터 index정리\n",
    "league_entries_df = pd.DataFrame(dict(league_df['entries'])).T #dict구조로 되어 있는 entries컬럼 풀어주기\n",
    "league_df = pd.concat([league_df, league_entries_df], axis=1) #열끼리 결합\n",
    "\n",
    "league_df = league_df.drop(['index', 'queue', 'name', 'leagueId', 'entries', 'rank'], axis=1)\n",
    "\n",
    "for i in range(len(league_df)):\n",
    "    try:\n",
    "        sohwan = 'https://kr.api.riotgames.com/lol/summoner/v4/summoners/by-name/' + league_df['summonerName'].iloc[i] + '?api_key=' + api_key \n",
    "        r = requests.get(sohwan)\n",
    "        \n",
    "        while r.status_code == 429:\n",
    "            time.sleep(5)\n",
    "            sohwan = 'https://kr.api.riotgames.com/lol/summoner/v4/summoners/by-name/' + league_df['summonerName'].iloc[i] + '?api_key=' + api_key \n",
    "            r = requests.get(sohwan)\n",
    "            \n",
    "        account_id = r.json()['accountId']\n",
    "        league_df.iloc[i, -1] = account_id\n",
    "    \n",
    "    except:\n",
    "        pass"
   ]
  },
  {
   "cell_type": "code",
   "execution_count": 11,
   "metadata": {},
   "outputs": [
    {
     "data": {
      "text/plain": [
       "{'id': 'jHOLr1X7PWn8_yER99De5gUwcWjWaHFfCcExWmUXyGro8kc',\n",
       " 'accountId': 'sxOnoHeF08YqrIcomWzfxLXVm-n50MFfHjP4xZFpKRjJ53Z3LO53n8OO',\n",
       " 'puuid': 'ZHmjuxeOLQ651wQKz2A8OM9SiSA0XsDY2EBa4A4Dr3a7_8bbCkxdIlDYt5ls8PcTBOtmz8f3SVaLfg',\n",
       " 'name': 'ZED99',\n",
       " 'profileIconId': 4561,\n",
       " 'revisionDate': 1595939593000,\n",
       " 'summonerLevel': 88}"
      ]
     },
     "execution_count": 11,
     "metadata": {},
     "output_type": "execute_result"
    }
   ],
   "source": [
    "sohwan = \"https://kr.api.riotgames.com/lol/summoner/v4/summoners/by-name/\" +'ZED99' +'?api_key=' + api_key\n",
    "r = requests.get(sohwan)\n",
    "r.json()\n",
    "list3=[]\n",
    "\n",
    "r.json()"
   ]
  },
  {
   "cell_type": "code",
   "execution_count": null,
   "metadata": {},
   "outputs": [],
   "source": [
    "Wrpojeb7nNycUx_WEnqXk0Yn7pQwhO9E0D03HZYNcc6c9X6jHmyt_wYV"
   ]
  }
 ],
 "metadata": {
  "kernelspec": {
   "display_name": "Python 3",
   "language": "python",
   "name": "python3"
  },
  "language_info": {
   "codemirror_mode": {
    "name": "ipython",
    "version": 3
   },
   "file_extension": ".py",
   "mimetype": "text/x-python",
   "name": "python",
   "nbconvert_exporter": "python",
   "pygments_lexer": "ipython3",
   "version": "3.7.6"
  }
 },
 "nbformat": 4,
 "nbformat_minor": 4
}
