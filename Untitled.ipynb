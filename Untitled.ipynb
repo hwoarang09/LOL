{
 "cells": [
  {
   "cell_type": "code",
   "execution_count": 2,
   "metadata": {},
   "outputs": [
    {
     "name": "stdout",
     "output_type": "stream",
     "text": [
      "<class 'pandas.core.frame.DataFrame'>\n",
      "RangeIndex: 300 entries, 0 to 299\n",
      "Data columns (total 10 columns):\n",
      " #   Column        Non-Null Count  Dtype \n",
      "---  ------        --------------  ----- \n",
      " 0   tier          300 non-null    object\n",
      " 1   summonerId    300 non-null    object\n",
      " 2   summonerName  300 non-null    object\n",
      " 3   leaguePoints  300 non-null    object\n",
      " 4   wins          300 non-null    object\n",
      " 5   losses        300 non-null    object\n",
      " 6   veteran       300 non-null    object\n",
      " 7   inactive      300 non-null    object\n",
      " 8   freshBlood    300 non-null    object\n",
      " 9   hotStreak     300 non-null    object\n",
      "dtypes: object(10)\n",
      "memory usage: 23.6+ KB\n",
      "<class 'pandas.core.frame.DataFrame'>\n",
      "RangeIndex: 700 entries, 0 to 699\n",
      "Data columns (total 10 columns):\n",
      " #   Column        Non-Null Count  Dtype \n",
      "---  ------        --------------  ----- \n",
      " 0   tier          700 non-null    object\n",
      " 1   summonerId    700 non-null    object\n",
      " 2   summonerName  700 non-null    object\n",
      " 3   leaguePoints  700 non-null    object\n",
      " 4   wins          700 non-null    object\n",
      " 5   losses        700 non-null    object\n",
      " 6   veteran       700 non-null    object\n",
      " 7   inactive      700 non-null    object\n",
      " 8   freshBlood    700 non-null    object\n",
      " 9   hotStreak     700 non-null    object\n",
      "dtypes: object(10)\n",
      "memory usage: 54.8+ KB\n",
      "<class 'pandas.core.frame.DataFrame'>\n",
      "RangeIndex: 1780 entries, 0 to 1779\n",
      "Data columns (total 10 columns):\n",
      " #   Column        Non-Null Count  Dtype \n",
      "---  ------        --------------  ----- \n",
      " 0   tier          1780 non-null   object\n",
      " 1   summonerId    1780 non-null   object\n",
      " 2   summonerName  1780 non-null   object\n",
      " 3   leaguePoints  1780 non-null   object\n",
      " 4   wins          1780 non-null   object\n",
      " 5   losses        1780 non-null   object\n",
      " 6   veteran       1780 non-null   object\n",
      " 7   inactive      1780 non-null   object\n",
      " 8   freshBlood    1780 non-null   object\n",
      " 9   hotStreak     1780 non-null   object\n",
      "dtypes: object(10)\n",
      "memory usage: 139.2+ KB\n"
     ]
    }
   ],
   "source": [
    "import requests\n",
    "import pandas as pd\n",
    "\n",
    "api_key = 'RGAPI-15b6c117-8664-4a71-b3db-f7412f1aa4e1'\n",
    "\n",
    "challenger = 'https://kr.api.riotgames.com/lol/league/v4/challengerleagues/by-queue/RANKED_SOLO_5x5?api_key=' + api_key\n",
    "grandmaster = 'https://kr.api.riotgames.com/lol/league/v4/grandmasterleagues/by-queue/RANKED_SOLO_5x5?api_key=' + api_key\n",
    "master = 'https://kr.api.riotgames.com/lol/league/v4/masterleagues/by-queue/RANKED_SOLO_5x5?api_key=' + api_key\n",
    "\n",
    "\n",
    "list_r = [challenger, grandmaster, master]\n",
    "\n",
    "for a in range(0,3): \n",
    "    r=requests.get(list_r[a])\n",
    "    league_df=pd.DataFrame(r.json())\n",
    "    league_df.reset_index(inplace=True)#수집한 그마데이터 index정리\n",
    "    league_entries_df = pd.DataFrame(dict(league_df['entries'])).T #dict구조로 되어 있는 entries컬럼 풀어주기\n",
    "    league_df = pd.concat([league_df, league_entries_df], axis=1) #열끼리 결합\n",
    "\n",
    "    league_df = league_df.drop(['index', 'queue', 'name', 'leagueId', 'entries', 'rank'], axis=1)\n",
    "    league_df.info()\n",
    "    if a == 0:       \n",
    "        \n",
    "        league_df.to_csv('challengerdata.csv')#중간저장\n",
    "        \n",
    "    elif a ==1:\n",
    "        league_df.to_csv('grandmasterdata.csv')#중간저장\n",
    "    else:\n",
    "        league_df.to_csv('masterdata.csv')#중간저장\n",
    "\n",
    "        \n",
    "concatDF=pd.DataFrame()\n",
    "challengerDF=pd.read_csv(r\"C:\\Users\\hwoar\\LOL\\challengerdata.csv\")\n",
    "#GrandMasterDF=pd.read_csv(r\"C:\\Users\\hwoar\\LOL\\grandmasterdata.csv\")\n",
    "#MasterDF=pd.read_csv(r\"C:\\Users\\hwoar\\LOL\\masterdata.csv\")\n",
    "\n",
    "#list_r2 = [challengerDF,GrandMasterDF,MasterDF]\n",
    "list_r2 = [challengerDF]\n",
    "\n",
    "\n",
    "\n"
   ]
  },
  {
   "cell_type": "code",
   "execution_count": null,
   "metadata": {},
   "outputs": [],
   "source": [
    "for k in list_r2:\n",
    "    for i in range(len(k)):\n",
    "        try:\n",
    "            sohwan = 'https://kr.api.riotgames.com/lol/summoner/v4/summoners/by-name/' + k['summonerName'].iloc[i] + '?api_key=' + api_key \n",
    "            r = requests.get(sohwan)\n",
    "\n",
    "            while r.status_code == 429:\n",
    "                time.sleep(5)\n",
    "                sohwan = 'https://kr.api.riotgames.com/lol/summoner/v4/summoners/by-name/' + k['summonerName'].iloc[i] + '?api_key=' + api_key \n",
    "                r = requests.get(sohwan)\n",
    "\n",
    "            account_id = r.json()['accountId']\n",
    "            k.iloc[i, -1] = account_id\n",
    "\n",
    "        except:\n",
    "            pass\n",
    "\n",
    "\n",
    "challengerDF\n"
   ]
  },
  {
   "cell_type": "code",
   "execution_count": null,
   "metadata": {},
   "outputs": [],
   "source": [
    "k"
   ]
  },
  {
   "cell_type": "code",
   "execution_count": null,
   "metadata": {},
   "outputs": [],
   "source": [
    "match_info_df = pd.DataFrame()\n",
    "season = str(13)\n",
    "for i in range(len(league_df3)):\n",
    "    try:\n",
    "        match0 = 'https://kr.api.riotgames.com/lol/match/v4/matchlists/by-account/' + league_df3['hotStreak'].iloc[i]  +'?season=' + season + '&api_key=' + api_key\n",
    "        r = requests.get(match0)\n",
    "        \n",
    "        while (r.status_code == 429)or (r.status_code == 400):\n",
    "            time.sleep(5)\n",
    "            match0 = 'https://kr.api.riotgames.com/lol/match/v4/matchlists/by-account/' + league_df3['hotStreak'].iloc[i]  +'?season=' + season + '&api_key=' + api_key\n",
    "            r = requests.get(match0)\n",
    "            \n",
    "        match_info_df = pd.concat([match_info_df, pd.DataFrame(r.json()['matches'])])\n",
    "    \n",
    "    except:\n",
    "        print(i)"
   ]
  },
  {
   "cell_type": "code",
   "execution_count": null,
   "metadata": {},
   "outputs": [],
   "source": [
    "len(match_info_df)"
   ]
  },
  {
   "cell_type": "code",
   "execution_count": null,
   "metadata": {},
   "outputs": [],
   "source": [
    "\n",
    "sohwan = 'https://kr.api.riotgames.com/lol/summoner/v4/summoners/by-name/카시오페아만한다' +  '?api_key=' + api_key \n",
    "r = requests.get(sohwan)\n",
    "\n",
    "while r.status_code == 429:\n",
    "    time.sleep(5)\n",
    "    sohwan = 'https://kr.api.riotgames.com/lol/summoner/v4/summoners/by-name/카시오페아만한다' +  '?api_key=' + api_key \n",
    "    r = requests.get(sohwan)\n",
    "\n",
    "account_id = r.json()['accountId']\n",
    "league_df.iloc[i, -1] = account_id\n"
   ]
  },
  {
   "cell_type": "code",
   "execution_count": null,
   "metadata": {},
   "outputs": [],
   "source": []
  },
  {
   "cell_type": "code",
   "execution_count": null,
   "metadata": {
    "scrolled": true
   },
   "outputs": [],
   "source": [
    "account_id"
   ]
  },
  {
   "cell_type": "code",
   "execution_count": null,
   "metadata": {},
   "outputs": [],
   "source": [
    "season = str(13)\n",
    "match0 = 'https://kr.api.riotgames.com/lol/match/v4/matchlists/by-account/' + account_id  +'?season=' + season + '&api_key=' + api_key\n",
    "r = requests.get(match0)\n",
    "r.json()"
   ]
  },
  {
   "cell_type": "code",
   "execution_count": null,
   "metadata": {},
   "outputs": [],
   "source": [
    "r"
   ]
  },
  {
   "cell_type": "code",
   "execution_count": null,
   "metadata": {},
   "outputs": [],
   "source": [
    "len(r.json()['matches'])"
   ]
  },
  {
   "cell_type": "code",
   "execution_count": null,
   "metadata": {},
   "outputs": [],
   "source": [
    "match0 = 'https://kr.api.riotgames.com/lol/match/v4/matchlists/by-account/' + account_id  +'?season=' + season + '&api_key=' + api_key\n",
    "r = requests.get(match0)\n",
    "\n",
    "while r.status_code == 429:\n",
    "    time.sleep(5)\n",
    "    match0 = 'https://kr.api.riotgames.com/lol/match/v4/matchlists/by-account/' + account_id  +'?season=' + season + '&api_key=' + api_key\n",
    "    r = requests.get(match0)"
   ]
  },
  {
   "cell_type": "code",
   "execution_count": null,
   "metadata": {},
   "outputs": [],
   "source": [
    "r.json()"
   ]
  },
  {
   "cell_type": "code",
   "execution_count": null,
   "metadata": {},
   "outputs": [],
   "source": [
    "import requests\n",
    "from pandas.io.json import json_normalize\n",
    "import requests\n",
    "import pandas as pd\n",
    "import numpy as np\n",
    "import time\n",
    "from pandas.io.json import json_normalize\n",
    "import requests\n",
    "import pandas as pd\n",
    "import numpy as np\n",
    "import time\n",
    "import pandas as pd\n",
    "import pickle\n",
    "\n",
    "\n",
    "api_key = 'RGAPI-3aa058be-e510-4c83-b7e0-ef5ceb2d4159'\n",
    "sohwan = \"https://kr.api.riotgames.com/lol/summoner/v4/summoners/by-name/\" +'Tabriz' +'?api_key=' + api_key\n",
    "r = requests.get(sohwan)\n",
    "r.json()\n",
    "list3=[]\n",
    "r.json()"
   ]
  },
  {
   "cell_type": "code",
   "execution_count": null,
   "metadata": {},
   "outputs": [],
   "source": []
  }
 ],
 "metadata": {
  "kernelspec": {
   "display_name": "Python 3",
   "language": "python",
   "name": "python3"
  },
  "language_info": {
   "codemirror_mode": {
    "name": "ipython",
    "version": 3
   },
   "file_extension": ".py",
   "mimetype": "text/x-python",
   "name": "python",
   "nbconvert_exporter": "python",
   "pygments_lexer": "ipython3",
   "version": "3.7.6"
  }
 },
 "nbformat": 4,
 "nbformat_minor": 4
}
